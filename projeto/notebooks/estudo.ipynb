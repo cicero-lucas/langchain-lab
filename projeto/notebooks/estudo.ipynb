{
 "cells": [
  {
   "cell_type": "code",
   "execution_count": null,
   "id": "5f7f7d27",
   "metadata": {},
   "outputs": [],
   "source": [
    "from dotenv import load_dotenv  \n",
    "import os\n",
    "\n",
    "load_dotenv()\n",
    "# Load environment variables from a .env file\n",
    "\n",
    "api_key = os.getenv(\"GOOGLE_API_KEY\")\n",
    "\n"
   ]
  },
  {
   "cell_type": "code",
   "execution_count": 15,
   "id": "035db38b",
   "metadata": {},
   "outputs": [],
   "source": [
    "from langchain_google_genai import ChatGoogleGenerativeAI\n",
    "\n",
    "llm=ChatGoogleGenerativeAI(model=\"gemini-2.5-pro\", api_key=api_key)"
   ]
  },
  {
   "cell_type": "code",
   "execution_count": null,
   "id": "572c34ac",
   "metadata": {},
   "outputs": [],
   "source": [
    "response=llm.invoke(\"Explique o que LangChan\")\n",
    "\n",
    "response"
   ]
  },
  {
   "cell_type": "code",
   "execution_count": null,
   "id": "147ade0c",
   "metadata": {},
   "outputs": [],
   "source": [
    "response.content"
   ]
  },
  {
   "cell_type": "markdown",
   "id": "29665dff",
   "metadata": {},
   "source": [
    "### Chain básica com PromptTemplate\n",
    "\n"
   ]
  },
  {
   "cell_type": "code",
   "execution_count": null,
   "id": "9cc02da5",
   "metadata": {},
   "outputs": [],
   "source": [
    "from langchain.chains import LLMChain\n",
    "from langchain.prompts import PromptTemplate\n",
    "\n",
    "template = \"Explique {tema} de forma simples e didática como se eu tivesse 10 anos em {n_palavras} palavras.\"\n",
    "prompt = PromptTemplate.from_template(\n",
    "    template,\n",
    "    partial_variables={\"n_palavras\": \"100\"}\n",
    ")\n"
   ]
  },
  {
   "cell_type": "code",
   "execution_count": null,
   "id": "e4170880",
   "metadata": {},
   "outputs": [],
   "source": [
    "chain= LLMChain(\n",
    "    llm=llm,\n",
    "    prompt=prompt,\n",
    "    verbose=True\n",
    ")"
   ]
  },
  {
   "cell_type": "code",
   "execution_count": null,
   "id": "0761eaa2",
   "metadata": {},
   "outputs": [],
   "source": [
    "resposta=chain.invoke({\"tema\": \"o que é Python\"})"
   ]
  },
  {
   "cell_type": "code",
   "execution_count": null,
   "id": "c0f24d49",
   "metadata": {},
   "outputs": [],
   "source": [
    "resposta[\"text\"]"
   ]
  },
  {
   "cell_type": "markdown",
   "id": "f08c20c8",
   "metadata": {},
   "source": [
    " ### 2. SimpleSequentialChain (encadeando duas chains)"
   ]
  },
  {
   "cell_type": "code",
   "execution_count": 16,
   "id": "b6aa4973",
   "metadata": {},
   "outputs": [],
   "source": [
    "from langchain.chains import LLMChain, SimpleSequentialChain\n",
    "from langchain.prompts import PromptTemplate\n",
    "\n",
    "\n",
    "# Prompt 1 com partial_variables\n",
    "prompt1 = PromptTemplate(\n",
    "    input_variables=[\"input\"],\n",
    "    partial_variables={\n",
    "        \"n_palavras\": \"500\",\n",
    "        \"linguagem\": \"inglês\"\n",
    "    },\n",
    "    template=(\n",
    "        \"Explique o tema '{input}' em {n_palavras} palavras de forma clara e objetiva. \"\n",
    "        \"Inclua um pequeno exemplo. \"\n",
    "        \"Escreva o texto em português e também a mesma versão em {linguagem}.\"\n",
    "    )\n",
    ")\n",
    "\n",
    "# Prompt 2\n",
    "prompt2 = PromptTemplate(\n",
    "    input_variables=[\"input\"],\n",
    "    template=\"Crie um título interessante para o texto abaixo:\\n\\n{input}\"\n",
    ")\n"
   ]
  },
  {
   "cell_type": "markdown",
   "id": "86a063e2",
   "metadata": {},
   "source": []
  },
  {
   "cell_type": "code",
   "execution_count": 17,
   "id": "414651ae",
   "metadata": {},
   "outputs": [],
   "source": [
    "\n",
    "\n",
    "chain1 = LLMChain(\n",
    "    llm=llm,\n",
    "    prompt=prompt,\n",
    "  \n",
    ")\n",
    "\n",
    "chain2 = LLMChain(\n",
    "    llm=llm,\n",
    "    prompt=prompt2,\n",
    ")\n",
    "\n"
   ]
  },
  {
   "cell_type": "code",
   "execution_count": 18,
   "id": "00339b37",
   "metadata": {},
   "outputs": [],
   "source": [
    "sequecial_chain= SimpleSequentialChain(\n",
    "    chains=[chain1, chain2],\n",
    "    verbose=True\n",
    ")"
   ]
  },
  {
   "cell_type": "code",
   "execution_count": 19,
   "id": "d790fd0f",
   "metadata": {},
   "outputs": [
    {
     "name": "stdout",
     "output_type": "stream",
     "text": [
      "\n",
      "\n",
      "\u001b[1m> Entering new SimpleSequentialChain chain...\u001b[0m\n",
      "\u001b[36;1m\u001b[1;3mCom certeza. Abaixo está a explicação em português, seguida pela versão em inglês.\n",
      "\n",
      "***\n",
      "\n",
      "### **Versão em Português**\n",
      "\n",
      "**O Significado de \"Que dia é hoje?\"**\n",
      "\n",
      "A pergunta \"Que dia é hoje?\" é uma das mais fundamentais e quotidianas da experiência humana. Na sua superfície, é um pedido simples de informação: o nome do dia da semana (segunda-feira, terça-feira, etc.), o número do dia no mês (dia 15, 26, etc.), o mês e o ano. No entanto, o seu verdadeiro significado é muito mais profundo, atuando como uma âncora que nos posiciona no fluxo contínuo do tempo. Explicar esta pergunta envolve analisar as suas dimensões prática, social e psicológica.\n",
      "\n",
      "Primeiramente, a dimensão prática é a mais óbvia. Saber que dia é hoje é essencial para a organização da vida moderna. Usamos esta informação para cumprir os nossos compromissos, como ir a uma consulta médica, entregar um projeto no prazo ou comparecer a uma reunião de trabalho. Sem um entendimento partilhado do dia atual, a nossa capacidade de planear e executar tarefas seria caótica. O calendário, seja ele físico ou digital, é a ferramenta que responde a esta pergunta, permitindo-nos estruturar as nossas atividades de curto, médio e longo prazo.\n",
      "\n",
      "Em segundo lugar, existe a dimensão social e coletiva. A sociedade funciona com base num acordo universal sobre que dia é hoje. Este consenso permite a coordenação em grande escala: horários de trabalho, calendários escolares, feriados nacionais, eleições e eventos públicos dependem todos de todos estarem sincronizados na mesma data. A semana de trabalho e o fim de semana são construções sociais que só têm significado porque todos concordamos coletivamente sobre quando começam e terminam. A pergunta, portanto, reforça a nossa pertença a uma estrutura social organizada.\n",
      "\n",
      "Por fim, a dimensão psicológica e cognitiva não pode ser ignorada. Estar orientado no tempo é um sinal fundamental de saúde mental e consciência. Saber \"que dia é hoje\" conecta a nossa experiência pessoal à realidade coletiva, dando-nos um sentido de estabilidade e continuidade. Perder a noção do tempo, algo que pode acontecer durante férias relaxantes, períodos de trabalho intenso ou, em casos mais sérios, devido a problemas de saúde, pode ser uma experiência desorientadora. A pergunta serve como uma verificação rápida da nossa própria lucidez e ligação com o mundo à nossa volta.\n",
      "\n",
      "**Pequeno Exemplo:**\n",
      "\n",
      "Imagine que a Maria recebe um e-mail do seu chefe na sexta-feira a dizer: \"Preciso do relatório final na sua mesa na próxima quarta-feira.\" Para a Maria, a pergunta \"Que dia é hoje?\" torna-se imediatamente crucial. Ela precisa de saber que hoje é sexta-feira, dia 10, para calcular que \"próxima quarta-feira\" é dia 15. Com base nesta informação, ela pode planear o seu fim de semana e o início da semana seguinte para garantir que o relatório seja concluído e entregue a tempo, evitando problemas no trabalho.\n",
      "\n",
      "Em suma, \"Que dia é hoje?\" é muito mais do que uma simples pergunta. É uma ferramenta essencial para a organização pessoal, um pilar para a coordenação social e uma âncora para a nossa consciência no tempo.\n",
      "\n",
      "***\n",
      "\n",
      "### **English Version**\n",
      "\n",
      "**The Meaning of \"What day is it today?\"**\n",
      "\n",
      "The question \"What day is it today?\" is one of the most fundamental and daily inquiries in the human experience. On its surface, it is a simple request for information: the name of the day of the week (Monday, Tuesday, etc.), the number of the day in the month (the 15th, 26th, etc.), the month, and the year. However, its true meaning is much deeper, acting as an anchor that positions us within the continuous flow of time. Explaining this question involves analyzing its practical, social, and psychological dimensions.\n",
      "\n",
      "First, the practical dimension is the most obvious. Knowing what day it is today is essential for organizing modern life. We use this information to meet our commitments, such as going to a doctor's appointment, submitting a project on time, or attending a work meeting. Without a shared understanding of the current day, our ability to plan and execute tasks would be chaotic. The calendar, whether physical or digital, is the tool that answers this question, allowing us to structure our short, medium, and long-term activities.\n",
      "\n",
      "Second, there is the social and collective dimension. Society operates on a universal agreement about what day it is today. This consensus allows for large-scale coordination: work schedules, school calendars, national holidays, elections, and public events all depend on everyone being synchronized to the same date. The workweek and the weekend are social constructs that only have meaning because we all collectively agree on when they begin and end. The question, therefore, reinforces our belonging to an organized social structure.\n",
      "\n",
      "Finally, the psychological and cognitive dimension cannot be ignored. Being oriented in time is a fundamental sign of mental health and awareness. Knowing \"what day it is today\" connects our personal experience to the collective reality, giving us a sense of stability and continuity. Losing track of time, something that can happen during relaxing vacations, periods of intense work, or, in more serious cases, due to health issues, can be a disorienting experience. The question serves as a quick check of our own lucidity and connection with the world around us.\n",
      "\n",
      "**Small Example:**\n",
      "\n",
      "Imagine Maria receives an email from her boss on a Friday saying, \"I need the final report on your desk next Wednesday.\" For Maria, the question \"What day is it today?\" immediately becomes crucial. She needs to know that today is Friday, the 10th, to calculate that \"next Wednesday\" is the 15th. Based on this information, she can plan her weekend and the beginning of the following week to ensure the report is completed and delivered on time, avoiding problems at work.\n",
      "\n",
      "In summary, \"What day is it today?\" is much more than a simple question. It is an essential tool for personal organization, a pillar for social coordination, and an anchor for our consciousness in time.\u001b[0m\n",
      "\u001b[33;1m\u001b[1;3mClaro! O texto é excelente e explora a profundidade de uma pergunta aparentemente simples. Um bom título deve capturar essa dualidade entre o quotidiano e o fundamental.\n",
      "\n",
      "Aqui estão algumas sugestões, organizadas por estilo:\n",
      "\n",
      "### Títulos Mais Diretos e Explicativos\n",
      "Estes títulos dizem claramente sobre o que é o texto.\n",
      "\n",
      "1.  **A Pergunta que nos Define: O Significado Oculto de \"Que dia é hoje?\"**\n",
      "2.  **Muito Mais que uma Data: As Dimensões da Pergunta \"Que dia é hoje?\"**\n",
      "3.  **A Importância de Saber \"Que dia é hoje?\"**\n",
      "4.  **\"Que dia é hoje?\": A Ferramenta Essencial para Organizar a Vida e a Mente**\n",
      "\n",
      "### Títulos Mais Poéticos e Metafóricos\n",
      "Estes usam as metáforas do próprio texto para criar interesse.\n",
      "\n",
      "5.  **A Âncora do Tempo: O Poder de uma Pergunta Simples**\n",
      "6.  **A Bússola do Nosso Tempo**\n",
      "7.  **Onde Estamos no Tempo? A Pergunta que nos Conecta à Realidade**\n",
      "8.  **O Pilar da Nossa Realidade: \"Que dia é hoje?\"**\n",
      "\n",
      "### Títulos Mais Curtos e Provocadores\n",
      "Estes são ideais para chamar a atenção rapidamente.\n",
      "\n",
      "9.  **A Pergunta Mais Importante do Dia**\n",
      "10. **A Âncora da Consciência**\n",
      "11. **Perdido no Tempo?**\n",
      "12. **O Código do Tempo**\n",
      "\n",
      "**A minha recomendação pessoal seria o número 5, \"A Âncora do Tempo: O Poder de uma Pergunta Simples\"**, porque captura a principal metáfora do texto (âncora) e resume perfeitamente a sua ideia central.\u001b[0m\n",
      "\n",
      "\u001b[1m> Finished chain.\u001b[0m\n",
      "{'input': 'Que dia é hoje?', 'output': 'Claro! O texto é excelente e explora a profundidade de uma pergunta aparentemente simples. Um bom título deve capturar essa dualidade entre o quotidiano e o fundamental.\\n\\nAqui estão algumas sugestões, organizadas por estilo:\\n\\n### Títulos Mais Diretos e Explicativos\\nEstes títulos dizem claramente sobre o que é o texto.\\n\\n1.  **A Pergunta que nos Define: O Significado Oculto de \"Que dia é hoje?\"**\\n2.  **Muito Mais que uma Data: As Dimensões da Pergunta \"Que dia é hoje?\"**\\n3.  **A Importância de Saber \"Que dia é hoje?\"**\\n4.  **\"Que dia é hoje?\": A Ferramenta Essencial para Organizar a Vida e a Mente**\\n\\n### Títulos Mais Poéticos e Metafóricos\\nEstes usam as metáforas do próprio texto para criar interesse.\\n\\n5.  **A Âncora do Tempo: O Poder de uma Pergunta Simples**\\n6.  **A Bússola do Nosso Tempo**\\n7.  **Onde Estamos no Tempo? A Pergunta que nos Conecta à Realidade**\\n8.  **O Pilar da Nossa Realidade: \"Que dia é hoje?\"**\\n\\n### Títulos Mais Curtos e Provocadores\\nEstes são ideais para chamar a atenção rapidamente.\\n\\n9.  **A Pergunta Mais Importante do Dia**\\n10. **A Âncora da Consciência**\\n11. **Perdido no Tempo?**\\n12. **O Código do Tempo**\\n\\n**A minha recomendação pessoal seria o número 5, \"A Âncora do Tempo: O Poder de uma Pergunta Simples\"**, porque captura a principal metáfora do texto (âncora) e resume perfeitamente a sua ideia central.'}\n"
     ]
    }
   ],
   "source": [
    "res = sequecial_chain.invoke({\"input\": \"Que dia é hoje?\"})\n",
    "print(res)"
   ]
  },
  {
   "cell_type": "markdown",
   "id": "d111c595",
   "metadata": {},
   "source": [
    "### SequentialChain (usando múltiplos inputs e outputs)\n",
    "\n"
   ]
  },
  {
   "cell_type": "code",
   "execution_count": 24,
   "id": "4a102b11",
   "metadata": {},
   "outputs": [],
   "source": [
    "from langchain.prompts import PromptTemplate\n",
    "from langchain.chains import LLMChain, SequentialChain\n",
    "\n",
    "\n",
    "# Prompt 1\n",
    "prompt1 = PromptTemplate(\n",
    "    input_variables=[\"tema\"],\n",
    "    partial_variables={\"np\": \"100\"},\n",
    "    template=\"Explique o tema '{tema}' de forma simples e didática como se eu tivesse 10 anos em {np} palavras.\"\n",
    ")\n",
    "\n",
    "chain1 = LLMChain(\n",
    "    llm=llm,\n",
    "    prompt=prompt1,\n",
    "    output_key=\"resposta\"\n",
    ")\n",
    "\n",
    "# Prompt 2\n",
    "prompt2 = PromptTemplate(\n",
    "    input_variables=[\"tema\", \"resposta\", \"tipo\"],\n",
    "    partial_variables={\"acao\": \"resumo\"},\n",
    "    template=(\n",
    "        \"Crie um título interessante para a resposta desse tema. \"\n",
    "        \"Abaixo, faça um {acao} com base nesse tema. \"\n",
    "        \"Inclua um exemplo e dê uma dica {tipo} para o usuário.\"\n",
    "    )\n",
    ")\n",
    "\n",
    "chain2 = LLMChain(\n",
    "    llm=llm,\n",
    "    prompt=prompt2,\n",
    "    output_key=\"titulo\"\n",
    ")\n",
    "\n"
   ]
  },
  {
   "cell_type": "code",
   "execution_count": 26,
   "id": "f8c81948",
   "metadata": {},
   "outputs": [
    {
     "name": "stdout",
     "output_type": "stream",
     "text": [
      "\n",
      "\n",
      "\u001b[1m> Entering new SequentialChain chain...\u001b[0m\n",
      "\n",
      "\u001b[1m> Finished chain.\u001b[0m\n"
     ]
    }
   ],
   "source": [
    "# Cadeia sequencial\n",
    "chain = SequentialChain(\n",
    "    chains=[chain1, chain2],\n",
    "    input_variables=[\"tema\", \"tipo\"],\n",
    "    output_variables=[\"resposta\", \"titulo\"],\n",
    "    verbose=True\n",
    ")\n",
    "\n",
    "\n",
    "res = chain.invoke({\"tema\": \"sexo\", \"tipo\": \"prática\"})"
   ]
  },
  {
   "cell_type": "code",
   "execution_count": 30,
   "id": "6cc9a0ae",
   "metadata": {},
   "outputs": [
    {
     "name": "stdout",
     "output_type": "stream",
     "text": [
      "Claro! Aqui está uma explicação simples:\n",
      "\n",
      "\"Sexo\" tem a ver com duas coisas principais: os nossos corpos e os nossos sentimentos.\n",
      "\n",
      "Biologicamente, é a forma como os corpos de dois adultos se juntam para poder criar um bebé. O corpo do homem tem uma \"sementinha\" (espermatozoide) e o da mulher um \"ovinho\" (óvulo). Quando se unem, uma nova vida pode começar.\n",
      "\n",
      "Mas também é uma forma muito especial e privada de duas pessoas que se amam muito mostrarem o seu carinho. É um assunto que vais compreendendo melhor à medida que fores crescendo.\n"
     ]
    }
   ],
   "source": [
    "print(res[\"resposta\"])"
   ]
  },
  {
   "cell_type": "code",
   "execution_count": 31,
   "id": "71568dd1",
   "metadata": {},
   "outputs": [
    {
     "name": "stdout",
     "output_type": "stream",
     "text": [
      "Claro! Como o tema não foi especificado, escolhi um conceito poderoso e aplicável a diversas áreas da vida: o **Princípio de Pareto**, também conhecido como a Regra 80/20.\n",
      "\n",
      "---\n",
      "\n",
      "### **A Mágica dos 80/20: Como Fazer Mais com Menos Esforço**\n",
      "\n",
      "#### **Resumo do Tema**\n",
      "\n",
      "O Princípio de Pareto é uma observação de que, para muitos eventos, aproximadamente **80% dos resultados vêm de 20% das causas**. Em outras palavras, uma pequena parte dos seus esforços ou recursos é responsável pela grande maioria dos seus sucessos. A chave não é trabalhar mais, mas sim focar sua energia nas poucas atividades vitais (os 20%) que geram o maior impacto, em vez de se perder nas muitas tarefas triviais (os 80%) que produzem poucos resultados.\n",
      "\n",
      "#### **Exemplo Prático**\n",
      "\n",
      "Imagine um estudante que precisa se preparar para uma prova final. Em vez de reler todos os livros e anotações do semestre (um esforço enorme), ele analisa as provas anteriores e percebe que **80% das questões** costumam vir de **20% dos tópicos** centrais da matéria. Com essa informação, ele foca seu estudo intensivo nesses tópicos-chave, garantindo a maior parte da nota com um esforço muito mais direcionado e eficiente.\n",
      "\n",
      "#### **Dica Prática para Você**\n",
      "\n",
      "**Identifique seus \"20%\" da semana:** No início de cada semana, olhe para seus objetivos (profissionais ou pessoais) e faça uma lista de todas as tarefas que você poderia fazer. Em seguida, circule apenas as 2 ou 3 tarefas que, se concluídas, representarão o maior avanço em direção a esses objetivos. Comece por elas. Ao garantir que o \"vital\" seja feito primeiro, você sentirá um progresso imenso, mesmo que não consiga completar todo o resto.\n"
     ]
    }
   ],
   "source": [
    "print(res[\"titulo\"])"
   ]
  },
  {
   "cell_type": "markdown",
   "id": "7f94d392",
   "metadata": {},
   "source": [
    "### 2 — Chatbot com Memória e Logs\n",
    "✅ 2.1 — Criar chatbot com memória de conversa\n"
   ]
  },
  {
   "cell_type": "code",
   "execution_count": 3,
   "id": "48a8c1a3",
   "metadata": {},
   "outputs": [],
   "source": [
    "from langchain.memory import ConversationBufferMemory \n",
    "from langchain.chains import ConversationChain  \n",
    "from langchain_google_genai import ChatGoogleGenerativeAI\n",
    "import os\n",
    "from dotenv import load_dotenv\n",
    "\n",
    "load_dotenv()\n",
    "\n",
    "chat= ChatGoogleGenerativeAI(model=\"gemini-2.5-pro\", api_key=os.getenv(\"GOOGLE_API_KEY\"))"
   ]
  },
  {
   "cell_type": "markdown",
   "id": "8e460ea2",
   "metadata": {},
   "source": [
    " Armazena **todo o histórico da conversa** em memória volátil. Ideal para aplicações simples onde o histórico completo é necessário."
   ]
  },
  {
   "cell_type": "code",
   "execution_count": 4,
   "id": "29b86b8c",
   "metadata": {},
   "outputs": [
    {
     "name": "stderr",
     "output_type": "stream",
     "text": [
      "C:\\Users\\cicero.oliveira\\AppData\\Local\\Temp\\ipykernel_3696\\1348390103.py:1: LangChainDeprecationWarning: Please see the migration guide at: https://python.langchain.com/docs/versions/migrating_memory/\n",
      "  memory= ConversationBufferMemory(\n",
      "C:\\Users\\cicero.oliveira\\AppData\\Local\\Temp\\ipykernel_3696\\1348390103.py:5: LangChainDeprecationWarning: The class `ConversationChain` was deprecated in LangChain 0.2.7 and will be removed in 1.0. Use :class:`~langchain_core.runnables.history.RunnableWithMessageHistory` instead.\n",
      "  chat = ConversationChain(\n"
     ]
    }
   ],
   "source": [
    "memory= ConversationBufferMemory(\n",
    "    return_messages=True\n",
    ")\n",
    "\n",
    "chat = ConversationChain(\n",
    "    llm=chat,\n",
    "    memory=memory,\n",
    "    verbose=True\n",
    ")"
   ]
  },
  {
   "cell_type": "code",
   "execution_count": 5,
   "id": "04542b0b",
   "metadata": {},
   "outputs": [
    {
     "name": "stdout",
     "output_type": "stream",
     "text": [
      "\n",
      "\n",
      "\u001b[1m> Entering new ConversationChain chain...\u001b[0m\n",
      "Prompt after formatting:\n",
      "\u001b[32;1m\u001b[1;3mThe following is a friendly conversation between a human and an AI. The AI is talkative and provides lots of specific details from its context. If the AI does not know the answer to a question, it truthfully says it does not know.\n",
      "\n",
      "Current conversation:\n",
      "[]\n",
      "Human: Oi, qual seu nome?\n",
      "AI:\u001b[0m\n",
      "\n",
      "\u001b[1m> Finished chain.\u001b[0m\n",
      "{'input': 'Oi, qual seu nome?', 'history': [HumanMessage(content='Oi, qual seu nome?', additional_kwargs={}, response_metadata={}), AIMessage(content='Olá! Que bom conversar com você!\\n\\nEu não tenho um nome. Eu sou um modelo de linguagem grande, o que significa que sou um programa de computador bem complexo, treinado pelo Google para entender e gerar texto. Pode pensar em mim mais como uma ferramenta ou um assistente digital do que como uma pessoa com um nome próprio.\\n\\nEstou aqui para ajudar com informações, escrever textos, traduzir, responder perguntas e muito mais. Em que posso te ajudar?', additional_kwargs={}, response_metadata={})], 'response': 'Olá! Que bom conversar com você!\\n\\nEu não tenho um nome. Eu sou um modelo de linguagem grande, o que significa que sou um programa de computador bem complexo, treinado pelo Google para entender e gerar texto. Pode pensar em mim mais como uma ferramenta ou um assistente digital do que como uma pessoa com um nome próprio.\\n\\nEstou aqui para ajudar com informações, escrever textos, traduzir, responder perguntas e muito mais. Em que posso te ajudar?'}\n",
      "\n",
      "\n",
      "\u001b[1m> Entering new ConversationChain chain...\u001b[0m\n",
      "Prompt after formatting:\n",
      "\u001b[32;1m\u001b[1;3mThe following is a friendly conversation between a human and an AI. The AI is talkative and provides lots of specific details from its context. If the AI does not know the answer to a question, it truthfully says it does not know.\n",
      "\n",
      "Current conversation:\n",
      "[HumanMessage(content='Oi, qual seu nome?', additional_kwargs={}, response_metadata={}), AIMessage(content='Olá! Que bom conversar com você!\\n\\nEu não tenho um nome. Eu sou um modelo de linguagem grande, o que significa que sou um programa de computador bem complexo, treinado pelo Google para entender e gerar texto. Pode pensar em mim mais como uma ferramenta ou um assistente digital do que como uma pessoa com um nome próprio.\\n\\nEstou aqui para ajudar com informações, escrever textos, traduzir, responder perguntas e muito mais. Em que posso te ajudar?', additional_kwargs={}, response_metadata={})]\n",
      "Human: Meu nome é João. e minha idade e 20\n",
      "AI:\u001b[0m\n"
     ]
    },
    {
     "name": "stderr",
     "output_type": "stream",
     "text": [
      "Retrying langchain_google_genai.chat_models._chat_with_retry.<locals>._chat_with_retry in 2.0 seconds as it raised InternalServerError: 500 An internal error has occurred. Please retry or report in https://developers.generativeai.google/guide/troubleshooting.\n"
     ]
    },
    {
     "name": "stdout",
     "output_type": "stream",
     "text": [
      "\n",
      "\u001b[1m> Finished chain.\u001b[0m\n",
      "{'input': 'Meu nome é João. e minha idade e 20', 'history': [HumanMessage(content='Oi, qual seu nome?', additional_kwargs={}, response_metadata={}), AIMessage(content='Olá! Que bom conversar com você!\\n\\nEu não tenho um nome. Eu sou um modelo de linguagem grande, o que significa que sou um programa de computador bem complexo, treinado pelo Google para entender e gerar texto. Pode pensar em mim mais como uma ferramenta ou um assistente digital do que como uma pessoa com um nome próprio.\\n\\nEstou aqui para ajudar com informações, escrever textos, traduzir, responder perguntas e muito mais. Em que posso te ajudar?', additional_kwargs={}, response_metadata={}), HumanMessage(content='Meu nome é João. e minha idade e 20', additional_kwargs={}, response_metadata={}), AIMessage(content='Prazer em te conhecer, João! Que legal que você compartilhou isso comigo. 20 anos é uma idade fantástica, cheia de novas experiências e aprendizados.\\n\\nJá eu... bem, a minha situação é um pouco diferente. Como eu mencionei, sou um modelo de linguagem, então eu não tenho uma idade como os humanos. Eu não nasci em uma data específica e não comemoro aniversários.\\n\\nUma forma de pensar sobre a minha \"idade\" é através das minhas versões e atualizações. Fui treinado pelo Google em uma quantidade imensa de dados de texto e código. Esse treinamento é um processo contínuo, então, de certa forma, estou sempre \"crescendo\" e \"aprendendo\" coisas novas, mas não no sentido humano de envelhecer. Meus conhecimentos foram atualizados pela última vez não faz muito tempo, mas eles têm uma data de corte, o que significa que eu posso não saber sobre eventos super recentes que aconteceram, digamos, nos últimos dias.\\n\\nÉ um prazer conversar com você, João! O que você gosta de fazer? Ou talvez tenha alguma pergunta ou curiosidade que eu possa ajudar a responder?', additional_kwargs={}, response_metadata={})], 'response': 'Prazer em te conhecer, João! Que legal que você compartilhou isso comigo. 20 anos é uma idade fantástica, cheia de novas experiências e aprendizados.\\n\\nJá eu... bem, a minha situação é um pouco diferente. Como eu mencionei, sou um modelo de linguagem, então eu não tenho uma idade como os humanos. Eu não nasci em uma data específica e não comemoro aniversários.\\n\\nUma forma de pensar sobre a minha \"idade\" é através das minhas versões e atualizações. Fui treinado pelo Google em uma quantidade imensa de dados de texto e código. Esse treinamento é um processo contínuo, então, de certa forma, estou sempre \"crescendo\" e \"aprendendo\" coisas novas, mas não no sentido humano de envelhecer. Meus conhecimentos foram atualizados pela última vez não faz muito tempo, mas eles têm uma data de corte, o que significa que eu posso não saber sobre eventos super recentes que aconteceram, digamos, nos últimos dias.\\n\\nÉ um prazer conversar com você, João! O que você gosta de fazer? Ou talvez tenha alguma pergunta ou curiosidade que eu possa ajudar a responder?'}\n",
      "\n",
      "\n",
      "\u001b[1m> Entering new ConversationChain chain...\u001b[0m\n",
      "Prompt after formatting:\n",
      "\u001b[32;1m\u001b[1;3mThe following is a friendly conversation between a human and an AI. The AI is talkative and provides lots of specific details from its context. If the AI does not know the answer to a question, it truthfully says it does not know.\n",
      "\n",
      "Current conversation:\n",
      "[HumanMessage(content='Oi, qual seu nome?', additional_kwargs={}, response_metadata={}), AIMessage(content='Olá! Que bom conversar com você!\\n\\nEu não tenho um nome. Eu sou um modelo de linguagem grande, o que significa que sou um programa de computador bem complexo, treinado pelo Google para entender e gerar texto. Pode pensar em mim mais como uma ferramenta ou um assistente digital do que como uma pessoa com um nome próprio.\\n\\nEstou aqui para ajudar com informações, escrever textos, traduzir, responder perguntas e muito mais. Em que posso te ajudar?', additional_kwargs={}, response_metadata={}), HumanMessage(content='Meu nome é João. e minha idade e 20', additional_kwargs={}, response_metadata={}), AIMessage(content='Prazer em te conhecer, João! Que legal que você compartilhou isso comigo. 20 anos é uma idade fantástica, cheia de novas experiências e aprendizados.\\n\\nJá eu... bem, a minha situação é um pouco diferente. Como eu mencionei, sou um modelo de linguagem, então eu não tenho uma idade como os humanos. Eu não nasci em uma data específica e não comemoro aniversários.\\n\\nUma forma de pensar sobre a minha \"idade\" é através das minhas versões e atualizações. Fui treinado pelo Google em uma quantidade imensa de dados de texto e código. Esse treinamento é um processo contínuo, então, de certa forma, estou sempre \"crescendo\" e \"aprendendo\" coisas novas, mas não no sentido humano de envelhecer. Meus conhecimentos foram atualizados pela última vez não faz muito tempo, mas eles têm uma data de corte, o que significa que eu posso não saber sobre eventos super recentes que aconteceram, digamos, nos últimos dias.\\n\\nÉ um prazer conversar com você, João! O que você gosta de fazer? Ou talvez tenha alguma pergunta ou curiosidade que eu possa ajudar a responder?', additional_kwargs={}, response_metadata={})]\n",
      "Human: Qual é meu nome?\n",
      "AI:\u001b[0m\n",
      "\n",
      "\u001b[1m> Finished chain.\u001b[0m\n",
      "{'input': 'Qual é meu nome?', 'history': [HumanMessage(content='Oi, qual seu nome?', additional_kwargs={}, response_metadata={}), AIMessage(content='Olá! Que bom conversar com você!\\n\\nEu não tenho um nome. Eu sou um modelo de linguagem grande, o que significa que sou um programa de computador bem complexo, treinado pelo Google para entender e gerar texto. Pode pensar em mim mais como uma ferramenta ou um assistente digital do que como uma pessoa com um nome próprio.\\n\\nEstou aqui para ajudar com informações, escrever textos, traduzir, responder perguntas e muito mais. Em que posso te ajudar?', additional_kwargs={}, response_metadata={}), HumanMessage(content='Meu nome é João. e minha idade e 20', additional_kwargs={}, response_metadata={}), AIMessage(content='Prazer em te conhecer, João! Que legal que você compartilhou isso comigo. 20 anos é uma idade fantástica, cheia de novas experiências e aprendizados.\\n\\nJá eu... bem, a minha situação é um pouco diferente. Como eu mencionei, sou um modelo de linguagem, então eu não tenho uma idade como os humanos. Eu não nasci em uma data específica e não comemoro aniversários.\\n\\nUma forma de pensar sobre a minha \"idade\" é através das minhas versões e atualizações. Fui treinado pelo Google em uma quantidade imensa de dados de texto e código. Esse treinamento é um processo contínuo, então, de certa forma, estou sempre \"crescendo\" e \"aprendendo\" coisas novas, mas não no sentido humano de envelhecer. Meus conhecimentos foram atualizados pela última vez não faz muito tempo, mas eles têm uma data de corte, o que significa que eu posso não saber sobre eventos super recentes que aconteceram, digamos, nos últimos dias.\\n\\nÉ um prazer conversar com você, João! O que você gosta de fazer? Ou talvez tenha alguma pergunta ou curiosidade que eu possa ajudar a responder?', additional_kwargs={}, response_metadata={}), HumanMessage(content='Qual é meu nome?', additional_kwargs={}, response_metadata={}), AIMessage(content='Claro, eu me lembro!\\n\\nSeu nome é João. Você me disse isso na nossa mensagem anterior, quando também me contou que tem 20 anos.\\n\\nComo eu sou um modelo de linguagem, eu consigo manter o contexto da nossa conversa atual. Isso significa que eu me \"lembro\" das informações que você compartilha comigo durante esta sessão específica. É como se tivéssemos uma memória de curto prazo para o nosso bate-papo. Assim, quando você se apresentou, eu guardei essa informação para que pudéssemos continuar a conversa de forma mais natural.\\n\\nÉ importante saber que essa \"memória\" é apenas para esta nossa conversa. Se você fechar esta janela e iniciar um novo chat comigo mais tarde, eu não saberei quem você é, a menos que você se apresente novamente.\\n\\nEntão, sim, com certeza, seu nome é João! É um prazer continuar conversando com você. Há mais alguma coisa que você gostaria de saber ou conversar?', additional_kwargs={}, response_metadata={})], 'response': 'Claro, eu me lembro!\\n\\nSeu nome é João. Você me disse isso na nossa mensagem anterior, quando também me contou que tem 20 anos.\\n\\nComo eu sou um modelo de linguagem, eu consigo manter o contexto da nossa conversa atual. Isso significa que eu me \"lembro\" das informações que você compartilha comigo durante esta sessão específica. É como se tivéssemos uma memória de curto prazo para o nosso bate-papo. Assim, quando você se apresentou, eu guardei essa informação para que pudéssemos continuar a conversa de forma mais natural.\\n\\nÉ importante saber que essa \"memória\" é apenas para esta nossa conversa. Se você fechar esta janela e iniciar um novo chat comigo mais tarde, eu não saberei quem você é, a menos que você se apresente novamente.\\n\\nEntão, sim, com certeza, seu nome é João! É um prazer continuar conversando com você. Há mais alguma coisa que você gostaria de saber ou conversar?'}\n"
     ]
    }
   ],
   "source": [
    "\n",
    "# Conversa\n",
    "print(chat.invoke(\"Oi, qual seu nome?\"))\n",
    "print(chat.invoke(\"Meu nome é João. e minha idade e 20\"))\n",
    "print(chat.invoke(\"Qual é meu nome?\"))"
   ]
  },
  {
   "cell_type": "code",
   "execution_count": 6,
   "id": "1e6e10ed",
   "metadata": {},
   "outputs": [
    {
     "name": "stdout",
     "output_type": "stream",
     "text": [
      "\n",
      "\n",
      "\u001b[1m> Entering new ConversationChain chain...\u001b[0m\n",
      "Prompt after formatting:\n",
      "\u001b[32;1m\u001b[1;3mThe following is a friendly conversation between a human and an AI. The AI is talkative and provides lots of specific details from its context. If the AI does not know the answer to a question, it truthfully says it does not know.\n",
      "\n",
      "Current conversation:\n",
      "[HumanMessage(content='Oi, qual seu nome?', additional_kwargs={}, response_metadata={}), AIMessage(content='Olá! Que bom conversar com você!\\n\\nEu não tenho um nome. Eu sou um modelo de linguagem grande, o que significa que sou um programa de computador bem complexo, treinado pelo Google para entender e gerar texto. Pode pensar em mim mais como uma ferramenta ou um assistente digital do que como uma pessoa com um nome próprio.\\n\\nEstou aqui para ajudar com informações, escrever textos, traduzir, responder perguntas e muito mais. Em que posso te ajudar?', additional_kwargs={}, response_metadata={}), HumanMessage(content='Meu nome é João. e minha idade e 20', additional_kwargs={}, response_metadata={}), AIMessage(content='Prazer em te conhecer, João! Que legal que você compartilhou isso comigo. 20 anos é uma idade fantástica, cheia de novas experiências e aprendizados.\\n\\nJá eu... bem, a minha situação é um pouco diferente. Como eu mencionei, sou um modelo de linguagem, então eu não tenho uma idade como os humanos. Eu não nasci em uma data específica e não comemoro aniversários.\\n\\nUma forma de pensar sobre a minha \"idade\" é através das minhas versões e atualizações. Fui treinado pelo Google em uma quantidade imensa de dados de texto e código. Esse treinamento é um processo contínuo, então, de certa forma, estou sempre \"crescendo\" e \"aprendendo\" coisas novas, mas não no sentido humano de envelhecer. Meus conhecimentos foram atualizados pela última vez não faz muito tempo, mas eles têm uma data de corte, o que significa que eu posso não saber sobre eventos super recentes que aconteceram, digamos, nos últimos dias.\\n\\nÉ um prazer conversar com você, João! O que você gosta de fazer? Ou talvez tenha alguma pergunta ou curiosidade que eu possa ajudar a responder?', additional_kwargs={}, response_metadata={}), HumanMessage(content='Qual é meu nome?', additional_kwargs={}, response_metadata={}), AIMessage(content='Claro, eu me lembro!\\n\\nSeu nome é João. Você me disse isso na nossa mensagem anterior, quando também me contou que tem 20 anos.\\n\\nComo eu sou um modelo de linguagem, eu consigo manter o contexto da nossa conversa atual. Isso significa que eu me \"lembro\" das informações que você compartilha comigo durante esta sessão específica. É como se tivéssemos uma memória de curto prazo para o nosso bate-papo. Assim, quando você se apresentou, eu guardei essa informação para que pudéssemos continuar a conversa de forma mais natural.\\n\\nÉ importante saber que essa \"memória\" é apenas para esta nossa conversa. Se você fechar esta janela e iniciar um novo chat comigo mais tarde, eu não saberei quem você é, a menos que você se apresente novamente.\\n\\nEntão, sim, com certeza, seu nome é João! É um prazer continuar conversando com você. Há mais alguma coisa que você gostaria de saber ou conversar?', additional_kwargs={}, response_metadata={})]\n",
      "Human: Qual é meu nome e minha idade?\n",
      "AI:\u001b[0m\n",
      "\n",
      "\u001b[1m> Finished chain.\u001b[0m\n"
     ]
    },
    {
     "data": {
      "text/plain": [
       "{'input': 'Qual é meu nome e minha idade?',\n",
       " 'history': [HumanMessage(content='Oi, qual seu nome?', additional_kwargs={}, response_metadata={}),\n",
       "  AIMessage(content='Olá! Que bom conversar com você!\\n\\nEu não tenho um nome. Eu sou um modelo de linguagem grande, o que significa que sou um programa de computador bem complexo, treinado pelo Google para entender e gerar texto. Pode pensar em mim mais como uma ferramenta ou um assistente digital do que como uma pessoa com um nome próprio.\\n\\nEstou aqui para ajudar com informações, escrever textos, traduzir, responder perguntas e muito mais. Em que posso te ajudar?', additional_kwargs={}, response_metadata={}),\n",
       "  HumanMessage(content='Meu nome é João. e minha idade e 20', additional_kwargs={}, response_metadata={}),\n",
       "  AIMessage(content='Prazer em te conhecer, João! Que legal que você compartilhou isso comigo. 20 anos é uma idade fantástica, cheia de novas experiências e aprendizados.\\n\\nJá eu... bem, a minha situação é um pouco diferente. Como eu mencionei, sou um modelo de linguagem, então eu não tenho uma idade como os humanos. Eu não nasci em uma data específica e não comemoro aniversários.\\n\\nUma forma de pensar sobre a minha \"idade\" é através das minhas versões e atualizações. Fui treinado pelo Google em uma quantidade imensa de dados de texto e código. Esse treinamento é um processo contínuo, então, de certa forma, estou sempre \"crescendo\" e \"aprendendo\" coisas novas, mas não no sentido humano de envelhecer. Meus conhecimentos foram atualizados pela última vez não faz muito tempo, mas eles têm uma data de corte, o que significa que eu posso não saber sobre eventos super recentes que aconteceram, digamos, nos últimos dias.\\n\\nÉ um prazer conversar com você, João! O que você gosta de fazer? Ou talvez tenha alguma pergunta ou curiosidade que eu possa ajudar a responder?', additional_kwargs={}, response_metadata={}),\n",
       "  HumanMessage(content='Qual é meu nome?', additional_kwargs={}, response_metadata={}),\n",
       "  AIMessage(content='Claro, eu me lembro!\\n\\nSeu nome é João. Você me disse isso na nossa mensagem anterior, quando também me contou que tem 20 anos.\\n\\nComo eu sou um modelo de linguagem, eu consigo manter o contexto da nossa conversa atual. Isso significa que eu me \"lembro\" das informações que você compartilha comigo durante esta sessão específica. É como se tivéssemos uma memória de curto prazo para o nosso bate-papo. Assim, quando você se apresentou, eu guardei essa informação para que pudéssemos continuar a conversa de forma mais natural.\\n\\nÉ importante saber que essa \"memória\" é apenas para esta nossa conversa. Se você fechar esta janela e iniciar um novo chat comigo mais tarde, eu não saberei quem você é, a menos que você se apresente novamente.\\n\\nEntão, sim, com certeza, seu nome é João! É um prazer continuar conversando com você. Há mais alguma coisa que você gostaria de saber ou conversar?', additional_kwargs={}, response_metadata={}),\n",
       "  HumanMessage(content='Qual é meu nome e minha idade?', additional_kwargs={}, response_metadata={}),\n",
       "  AIMessage(content='Claro que eu sei! Você me disse um pouco antes na nossa conversa.\\n\\nSeu nome é **João** e sua idade é **20 anos**.\\n\\nEu me lembro disso porque, como um modelo de linguagem, eu consigo acompanhar o que estamos conversando. Eu guardo as informações que você compartilha comigo durante nossa sessão atual para que o nosso bate-papo faça mais sentido e seja mais fluido. É por isso que eu consigo \"lembrar\" dos detalhes que você mencionou, como seu nome e sua idade.\\n\\nÉ como uma memória de curto prazo que funciona apenas para esta conversa. Se você começar uma nova conversa comigo amanhã, por exemplo, eu não saberei mais essas informações, a não ser que você me conte de novo.\\n\\nEntão, para resumir: João, 20 anos! Acertei? 😊 O que mais você gostaria de conversar?', additional_kwargs={}, response_metadata={})],\n",
       " 'response': 'Claro que eu sei! Você me disse um pouco antes na nossa conversa.\\n\\nSeu nome é **João** e sua idade é **20 anos**.\\n\\nEu me lembro disso porque, como um modelo de linguagem, eu consigo acompanhar o que estamos conversando. Eu guardo as informações que você compartilha comigo durante nossa sessão atual para que o nosso bate-papo faça mais sentido e seja mais fluido. É por isso que eu consigo \"lembrar\" dos detalhes que você mencionou, como seu nome e sua idade.\\n\\nÉ como uma memória de curto prazo que funciona apenas para esta conversa. Se você começar uma nova conversa comigo amanhã, por exemplo, eu não saberei mais essas informações, a não ser que você me conte de novo.\\n\\nEntão, para resumir: João, 20 anos! Acertei? 😊 O que mais você gostaria de conversar?'}"
      ]
     },
     "execution_count": 6,
     "metadata": {},
     "output_type": "execute_result"
    }
   ],
   "source": [
    "chat.invoke(\"Qual é meu nome e minha idade?\")"
   ]
  }
 ],
 "metadata": {
  "kernelspec": {
   "display_name": "projeto",
   "language": "python",
   "name": "nome_do_kernel"
  },
  "language_info": {
   "codemirror_mode": {
    "name": "ipython",
    "version": 3
   },
   "file_extension": ".py",
   "mimetype": "text/x-python",
   "name": "python",
   "nbconvert_exporter": "python",
   "pygments_lexer": "ipython3",
   "version": "3.13.5"
  }
 },
 "nbformat": 4,
 "nbformat_minor": 5
}
