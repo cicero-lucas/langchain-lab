{
 "cells": [
  {
   "cell_type": "markdown",
   "id": "5a1caa54",
   "metadata": {},
   "source": [
    "### . Código completo do Bubi Chatbot"
   ]
  },
  {
   "cell_type": "code",
   "execution_count": null,
   "id": "f8a33c63",
   "metadata": {},
   "outputs": [],
   "source": [
    "from dotenv import load_dotenv\n",
    "import os\n",
    "\n",
    "load_dotenv()\n",
    "\n",
    "from langchain_google_genai import ChatGoogleGenerativeAI\n",
    "\n",
    "llm= ChatGoogleGenerativeAI(\n",
    "    model=\"gemini-2.5-pro\", api_key=os.getenv(\"GOOGLE_API_KEY\")\n",
    ")"
   ]
  },
  {
   "cell_type": "markdown",
   "id": "e8298ad9",
   "metadata": {},
   "source": [
    "### Prompt + LLMChain"
   ]
  },
  {
   "cell_type": "code",
   "execution_count": null,
   "id": "a4a59e4a",
   "metadata": {},
   "outputs": [],
   "source": [
    "from langchain.prompts import PromptTemplate\n",
    "from langchain.chains import LLMChain\n",
    "\n",
    "template=\"Explique de forma clara o produto chamado {produto}. em ate {palavras} palavras.\"\n",
    "\n",
    "prompt= PromptTemplate.from_template(template, partial_variables={\"palavras\": 50})\n",
    "\n",
    "chain= LLMChain(\n",
    "    llm=llm,\n",
    "    prompt=prompt,\n",
    "    verbose=True \n",
    ")"
   ]
  },
  {
   "cell_type": "code",
   "execution_count": null,
   "id": "a1b2721e",
   "metadata": {},
   "outputs": [],
   "source": [
    "resposta= chain.invoke({\"produto\": \"intel vpro enteprise\"})\n"
   ]
  },
  {
   "cell_type": "code",
   "execution_count": null,
   "id": "6e32a584",
   "metadata": {},
   "outputs": [],
   "source": [
    "print(\"Bubi:\", resposta[\"text\"])"
   ]
  },
  {
   "cell_type": "markdown",
   "id": "e2d29339",
   "metadata": {},
   "source": [
    "### SequentialChain (explicação + resumo)"
   ]
  },
  {
   "cell_type": "code",
   "execution_count": null,
   "id": "e9445e27",
   "metadata": {},
   "outputs": [],
   "source": [
    "from langchain.prompts import PromptTemplate\n",
    "from langchain.chains import LLMChain\n",
    "from langchain.chains import SequentialChain\n",
    "\n",
    "template=\"Explique de forma clara o produto chamado {produto}. em ate {palavras} palavras.\"\n",
    "\n",
    "prompt= PromptTemplate.from_template(template, partial_variables={\"palavras\": 50},)\n",
    "\n",
    "chain= LLMChain(\n",
    "    llm=llm,\n",
    "    prompt=prompt,\n",
    "    verbose=True ,\n",
    "    output_key=\"Definição do Produto\"\n",
    ")\n",
    "\n",
    "template2=\" Crie um titulo legal para o produto {produto} coloque as pricipais caracteritica e preços em até {palavras} palavras.\"\n",
    "\n",
    "prompt2= PromptTemplate.from_template(template2, partial_variables={\"palavras\": 50})\n",
    "\n",
    "chain2= LLMChain(\n",
    "    llm=llm,\n",
    "    prompt=prompt2,\n",
    "    verbose=True ,\n",
    "    output_key=\"caracteristica do Produto\"\n",
    ")"
   ]
  },
  {
   "cell_type": "code",
   "execution_count": null,
   "id": "7579d42f",
   "metadata": {},
   "outputs": [],
   "source": [
    "chainSeq = SequentialChain (\n",
    "    chains=[chain, chain2],\n",
    "    input_variables=[\"produto\"],\n",
    "    output_variables=[\"Definição do Produto\", \"caracteristica do Produto\"],\n",
    "    verbose=True\n",
    ")"
   ]
  },
  {
   "cell_type": "code",
   "execution_count": null,
   "id": "e3fbf440",
   "metadata": {},
   "outputs": [],
   "source": [
    "result = chainSeq.invoke({\"produto\": \"Mouse Gamer 7200DPI\"})\n"
   ]
  },
  {
   "cell_type": "code",
   "execution_count": null,
   "id": "1cfef813",
   "metadata": {},
   "outputs": [],
   "source": [
    "result[\"Definição do Produto\"]"
   ]
  },
  {
   "cell_type": "code",
   "execution_count": null,
   "id": "d2ef9e1a",
   "metadata": {},
   "outputs": [],
   "source": [
    "print(result[\"caracteristica do Produto\"])"
   ]
  },
  {
   "cell_type": "markdown",
   "id": "bb0921a4",
   "metadata": {},
   "source": [
    "## 5. RAG com FAISS (FAQ + catálogo)"
   ]
  },
  {
   "cell_type": "code",
   "execution_count": null,
   "id": "5e5ada9c",
   "metadata": {},
   "outputs": [],
   "source": [
    "from langchain_community.document_loaders import TextLoader\n",
    "from langchain.text_splitter import CharacterTextSplitter\n",
    "import pandas as pd\n",
    "\n",
    "faqLoad=TextLoader(\"../data/faq.txt\", encoding=\"utf-8\")\n",
    "\n",
    "#Carrega produtos CSV e converte para texto\n",
    "df = pd.read_csv(\"dados/produtos.csv\")\n",
    "with open(\"dados/produtos.txt\", \"w\", encoding=\"utf-8\") as f:\n",
    "    for _, row in df.iterrows():\n",
    "        f.write(f\"{row['nome']}: {row['descricao']}, R$ {row['preco']}\\n\")\n",
    "\n",
    "prod_loader = TextLoader(\"dados/produtos.txt\", encoding=\"utf-8\")\n",
    "prod_docs = prod_loader.load()"
   ]
  }
 ],
 "metadata": {
  "kernelspec": {
   "display_name": "projeto",
   "language": "python",
   "name": "nome_do_kernel"
  },
  "language_info": {
   "codemirror_mode": {
    "name": "ipython",
    "version": 3
   },
   "file_extension": ".py",
   "mimetype": "text/x-python",
   "name": "python",
   "nbconvert_exporter": "python",
   "pygments_lexer": "ipython3",
   "version": "3.13.5"
  }
 },
 "nbformat": 4,
 "nbformat_minor": 5
}
