{
 "cells": [
  {
   "cell_type": "markdown",
   "id": "8b486ad6",
   "metadata": {},
   "source": [
    "## Output Passer\n",
    "\n",
    "Quando você usa um modelo de linguagem, ele geralmente retorna uma string de texto. Mas muitas vezes, você quer que essa resposta seja:\n",
    "\n",
    "Um objeto Python (como um dicionário ou lista)\n",
    "Um valor específico (como um número ou booleano)\n",
    "Um JSON válido\n",
    "Ou até mesmo uma estrutura personalizada (como uma classe ou schema)\n",
    "É aí que entra o Output Parser: ele converte a saída textual do modelo nesse formato desejado."
   ]
  },
  {
   "cell_type": "code",
   "execution_count": null,
   "id": "b4963558",
   "metadata": {},
   "outputs": [],
   "source": [
    "feedbackProdutp=\"\"\"\n",
    "O XPhone Z10 se destaca pelo seu design sofisticado, desempenho potente e excelente qualidade de tela e câmera. A bateria também impressiona pela longa duração. No entanto, o aparelho apresenta alguns pontos negativos, como superaquecimento durante jogos, falhas no reconhecimento facial em ambientes escuros, lentidão nas atualizações de sistema e qualidade de som abaixo do esperado. Para melhorar a experiência do usuário, recomenda-se otimizações no sistema de resfriamento, melhorias no reconhecimento facial, aceleração das atualizações e inclusão de alto-falantes estéreo nas próximas versões.\n",
    "\"\"\"\n",
    "\n"
   ]
  },
  {
   "cell_type": "code",
   "execution_count": null,
   "id": "f31159c6",
   "metadata": {},
   "outputs": [],
   "source": [
    "from langchain.prompts import ChatPromptTemplate\n",
    "\n",
    "reviewTemplate = ChatPromptTemplate.from_template(\"\"\"\n",
    "Para o texto a seguir, extraia as seguintes informações:\n",
    "- produto: Nome do produto mencionado no texto.\n",
    "- caracteristicas_positivas: Liste todas as características positivas mencionadas.\n",
    "- caracteristicas_negativas: Liste todas as características negativas mencionadas.\n",
    "- recomendacoes: Sugestões de melhoria ou solução para os problemas identificad.\n",
    "texto{review}\n",
    "\n",
    "retone a resposta no formato json\n",
    "\"\"\")\n"
   ]
  },
  {
   "cell_type": "code",
   "execution_count": null,
   "id": "732e1d10",
   "metadata": {},
   "outputs": [],
   "source": [
    "print(reviewTemplate.format_messages(review=feedbackProdutp))"
   ]
  },
  {
   "cell_type": "code",
   "execution_count": null,
   "id": "c5d2fb95",
   "metadata": {},
   "outputs": [],
   "source": [
    "from langchain.output_parsers import ResponseSchema, StructuredOutputParser\n",
    "\n",
    "schemaProduto= ResponseSchema(\n",
    "    name=\"produto\",\n",
    "    type=\"string\",\n",
    "    description=\"nome do produto\"\n",
    ")\n",
    "schemaPositiva= ResponseSchema(\n",
    "    name=\"caracteristicas possitiva\",\n",
    "    type=\"list\",\n",
    "    description=\"Liste todas as características positivas mencionadas\"\n",
    ")\n",
    "schemaNegativas= ResponseSchema(\n",
    "    name=\"caracteristicas negativas\",\n",
    "    type=\"list\",\n",
    "    description=\"Liste todas as características negativas mencionadas\"\n",
    ")\n",
    "schemaRecomendacao= ResponseSchema(\n",
    "    name=\"recomendação\",\n",
    "    type=\"list\",\n",
    "    description=\"Sugestões de melhoria ou solução para os problemas identificad\"\n",
    ")"
   ]
  },
  {
   "cell_type": "code",
   "execution_count": null,
   "id": "fe62885b",
   "metadata": {},
   "outputs": [],
   "source": [
    "response_schema = [schemaProduto,schemaPositiva,schemaNegativas,schemaRecomendacao]\n",
    "output_parser= StructuredOutputParser.from_response_schemas(response_schema)\n",
    "\n",
    "schemaFormatado= output_parser.get_format_instructions()"
   ]
  },
  {
   "cell_type": "code",
   "execution_count": null,
   "id": "4e5fdbc4",
   "metadata": {},
   "outputs": [],
   "source": [
    "print(schemaFormatado)"
   ]
  },
  {
   "cell_type": "code",
   "execution_count": null,
   "id": "4174fa9e",
   "metadata": {},
   "outputs": [],
   "source": [
    "from langchain.prompts import ChatPromptTemplate\n",
    "\n",
    "# Corrigindo o nome do parâmetro 'schama' para 'schema'\n",
    "reviewTemplate2 = ChatPromptTemplate.from_template(\"\"\"\n",
    "    Para o texto a seguir, extraia as seguintes informações:\n",
    "    produtos, características positivas, características negativas e recomendação.\n",
    "    \n",
    "    Texto: {review}\n",
    "    {schema}\n",
    "\"\"\", partial_variables={\"schema\": schemaFormatado})\n",
    "\n",
    "# Formatando a mensagem com o texto da review\n",
    "mensagem_formatada = reviewTemplate2.format_messages(review=feedbackProdutp)\n",
    "\n",
    "# Exibindo a mensagem formatada\n",
    "print(mensagem_formatada)\n"
   ]
  },
  {
   "cell_type": "code",
   "execution_count": null,
   "id": "e783cdff",
   "metadata": {},
   "outputs": [],
   "source": [
    "from langchain.chat_models import ChatOpenAI\n",
    "\n",
    "chat = ChatOpenAI(temperature=0)\n",
    "\n",
    "resposta= chat.invoke(reviewTemplate2.format_messages(review=feedbackProdutp))\n",
    "resposta.content"
   ]
  },
  {
   "cell_type": "code",
   "execution_count": null,
   "id": "1bceb081",
   "metadata": {},
   "outputs": [],
   "source": [
    "respostaJson=output_parser.parse(resposta.content)\n"
   ]
  }
 ],
 "metadata": {
  "kernelspec": {
   "display_name": "Python (.venv LangChain)",
   "language": "python",
   "name": "meu_ambiente_langchain"
  },
  "language_info": {
   "codemirror_mode": {
    "name": "ipython",
    "version": 3
   },
   "file_extension": ".py",
   "mimetype": "text/x-python",
   "name": "python",
   "nbconvert_exporter": "python",
   "pygments_lexer": "ipython3",
   "version": "3.13.5"
  }
 },
 "nbformat": 4,
 "nbformat_minor": 5
}
